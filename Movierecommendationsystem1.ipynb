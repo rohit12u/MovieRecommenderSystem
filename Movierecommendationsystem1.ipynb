{
 "cells": [
  {
   "cell_type": "markdown",
   "id": "33faf85e-741a-45a7-b216-7ce94643ffeb",
   "metadata": {},
   "source": [
    "# Import Libraries"
   ]
  },
  {
   "cell_type": "code",
   "execution_count": 2,
   "id": "0b70a979-405d-41ed-982f-c038384b813f",
   "metadata": {},
   "outputs": [],
   "source": [
    "import pandas as pd\n",
    "from sklearn.feature_extraction.text import CountVectorizer\n",
    "from sklearn.metrics.pairwise import cosine_similarity\n"
   ]
  },
  {
   "cell_type": "markdown",
   "id": "303c9f4c-5ec0-4294-9f8d-845e95b28c56",
   "metadata": {},
   "source": [
    "# 📁 Step 2: Load the Dataset"
   ]
  },
  {
   "cell_type": "code",
   "execution_count": 4,
   "id": "938d3417-8c45-4dba-8328-47327afc25d7",
   "metadata": {},
   "outputs": [
    {
     "name": "stdout",
     "output_type": "stream",
     "text": [
      "✅ Dataset loaded successfully!\n"
     ]
    }
   ],
   "source": [
    "movies = pd.read_csv(\"movies_sample.csv\")\n",
    "print(\"✅ Dataset loaded successfully!\")\n"
   ]
  },
  {
   "cell_type": "markdown",
   "id": "667580c3-781a-42df-8359-456f4ae76ced",
   "metadata": {},
   "source": [
    "# 🔍 Step 3: Preview the Dataset"
   ]
  },
  {
   "cell_type": "code",
   "execution_count": 5,
   "id": "d7a36c90-5ab8-4aff-86db-a7af447e5c9a",
   "metadata": {},
   "outputs": [
    {
     "name": "stdout",
     "output_type": "stream",
     "text": [
      "   movieId          title                   genres\n",
      "0        1     The Matrix            Action|Sci-Fi\n",
      "1        2      Inception  Action|Adventure|Sci-Fi\n",
      "2        3        Titanic            Drama|Romance\n",
      "3        4  The Godfather              Crime|Drama\n",
      "4        5   Interstellar   Adventure|Drama|Sci-Fi\n",
      "\n",
      "Columns in dataset: ['movieId', 'title', 'genres']\n"
     ]
    }
   ],
   "source": [
    "\n",
    "print(movies.head())\n",
    "\n",
    "# Optional: check columns\n",
    "print(\"\\nColumns in dataset:\", movies.columns.tolist())\n"
   ]
  },
  {
   "cell_type": "markdown",
   "id": "a62d2a63-d3fe-433d-8645-0174276bac40",
   "metadata": {},
   "source": [
    "# 🧹 Step 4: Preprocess the Data"
   ]
  },
  {
   "cell_type": "code",
   "execution_count": 6,
   "id": "bd1435fb-e925-4014-a384-092dd8ce7575",
   "metadata": {},
   "outputs": [],
   "source": [
    "\n",
    "if 'genres' not in movies.columns or 'title' not in movies.columns:\n",
    "    raise ValueError(\"❌ The dataset must contain 'title' and 'genres' columns.\")\n",
    "\n",
    "# Replace '|' with spaces for CountVectorizer compatibility\n",
    "movies['genres'] = movies['genres'].astype(str).str.replace('|', ' ', regex=False)\n"
   ]
  },
  {
   "cell_type": "markdown",
   "id": "09918553-fd19-41d4-8da4-74d5080b0c79",
   "metadata": {},
   "source": [
    "# 🔠 Step 5: Convert Genres to Vectors"
   ]
  },
  {
   "cell_type": "code",
   "execution_count": 7,
   "id": "dca8af1c-b518-462f-bcc9-f6162182acd5",
   "metadata": {},
   "outputs": [],
   "source": [
    "\n",
    "vectorizer = CountVectorizer()\n",
    "genre_matrix = vectorizer.fit_transform(movies['genres'])\n"
   ]
  },
  {
   "cell_type": "markdown",
   "id": "b40052ea-56a4-4f7d-98ca-a05bf3d9fbdb",
   "metadata": {},
   "source": [
    "# 🔗 Step 6: Compute Cosine Similarity"
   ]
  },
  {
   "cell_type": "code",
   "execution_count": 8,
   "id": "6c24040b-b92f-4c2b-9d9a-586647886e02",
   "metadata": {},
   "outputs": [],
   "source": [
    "\n",
    "cosine_sim = cosine_similarity(genre_matrix, genre_matrix)\n"
   ]
  },
  {
   "cell_type": "markdown",
   "id": "6c4bca1d-6cbf-4d16-b758-086e47dd4ccd",
   "metadata": {},
   "source": [
    "# 🗂 Step 7: Map Movie Titles to Indices\n"
   ]
  },
  {
   "cell_type": "code",
   "execution_count": 9,
   "id": "1c774c81-34b7-49d7-a4aa-9751312b596d",
   "metadata": {},
   "outputs": [],
   "source": [
    "\n",
    "movie_indices = pd.Series(movies.index, index=movies['title']).drop_duplicates()\n"
   ]
  },
  {
   "cell_type": "markdown",
   "id": "fc11b151-b383-437b-b30b-921c075ed91c",
   "metadata": {},
   "source": [
    "# 💡 Step 8: Define Recommendation Function\n",
    "\n"
   ]
  },
  {
   "cell_type": "code",
   "execution_count": 10,
   "id": "430dffe1-0ed5-4704-b42a-18f4397335b9",
   "metadata": {},
   "outputs": [],
   "source": [
    "def recommend_movies(title, num=5):\n",
    "    idx = movie_indices.get(title)\n",
    "    if idx is None:\n",
    "        print(f\"⚠️ Movie '{title}' not found in the dataset.\")\n",
    "        return []\n",
    "    \n",
    "    # Get similarity scores\n",
    "    sim_scores = list(enumerate(cosine_sim[idx]))\n",
    "    \n",
    "    # Sort by similarity and get top matches\n",
    "    sim_scores = sorted(sim_scores, key=lambda x: x[1], reverse=True)[1:num+1]\n",
    "    \n",
    "    # Get movie indices and titles\n",
    "    movie_indices_sim = [i[0] for i in sim_scores]\n",
    "    return movies['title'].iloc[movie_indices_sim].tolist()\n"
   ]
  },
  {
   "cell_type": "markdown",
   "id": "09298ce6-0d74-4e4e-a51e-5656caddcf33",
   "metadata": {},
   "source": [
    "# 🧪 Step 9: Try it Out with User Input"
   ]
  },
  {
   "cell_type": "code",
   "execution_count": 11,
   "id": "72f6eb42-e9ac-4cdd-b4af-33feaa6ecbb5",
   "metadata": {},
   "outputs": [
    {
     "name": "stdout",
     "output_type": "stream",
     "text": [
      "\n",
      "Sample movies available:\n",
      "       The Matrix\n",
      "        Inception\n",
      "          Titanic\n",
      "    The Godfather\n",
      "     Interstellar\n",
      "  The Dark Knight\n",
      "Avengers: Endgame\n",
      "     Forrest Gump\n",
      "        Gladiator\n",
      "    The Lion King\n"
     ]
    },
    {
     "name": "stdin",
     "output_type": "stream",
     "text": [
      "\n",
      "Enter a movie title:  The Matrix\n",
      "Enter number of recommendations:  3\n"
     ]
    },
    {
     "name": "stdout",
     "output_type": "stream",
     "text": [
      "\n",
      "📽 Recommended Movies:\n",
      "1. Inception\n",
      "2. Avengers: Endgame\n",
      "3. Interstellar\n"
     ]
    }
   ],
   "source": [
    "\n",
    "print(\"\\nSample movies available:\")\n",
    "print(movies['title'].head(10).to_string(index=False))\n",
    "\n",
    "# Get user input\n",
    "selected_movie = input(\"\\nEnter a movie title: \")\n",
    "top_n = int(input(\"Enter number of recommendations: \"))\n",
    "\n",
    "# Show results\n",
    "print(\"\\n📽 Recommended Movies:\")\n",
    "recommendations = recommend_movies(selected_movie, top_n)\n",
    "for i, movie in enumerate(recommendations, 1):\n",
    "    print(f\"{i}. {movie}\")\n"
   ]
  }
 ],
 "metadata": {
  "kernelspec": {
   "display_name": "Python 3 (ipykernel)",
   "language": "python",
   "name": "python3"
  },
  "language_info": {
   "codemirror_mode": {
    "name": "ipython",
    "version": 3
   },
   "file_extension": ".py",
   "mimetype": "text/x-python",
   "name": "python",
   "nbconvert_exporter": "python",
   "pygments_lexer": "ipython3",
   "version": "3.11.7"
  }
 },
 "nbformat": 4,
 "nbformat_minor": 5
}
